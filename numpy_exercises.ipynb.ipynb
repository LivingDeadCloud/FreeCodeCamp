{
  "nbformat": 4,
  "nbformat_minor": 0,
  "metadata": {
    "colab": {
      "name": "Untitled1.ipynb",
      "provenance": [],
      "collapsed_sections": [],
      "authorship_tag": "ABX9TyMn23rI+QidQpErRwxKzhiN",
      "include_colab_link": true
    },
    "kernelspec": {
      "name": "python3",
      "display_name": "Python 3"
    }
  },
  "cells": [
    {
      "cell_type": "markdown",
      "metadata": {
        "id": "view-in-github",
        "colab_type": "text"
      },
      "source": [
        "<a href=\"https://colab.research.google.com/github/LivingDeadCloud/FreeCodeCamp/blob/main/numpy_exercises.ipynb.ipynb\" target=\"_parent\"><img src=\"https://colab.research.google.com/assets/colab-badge.svg\" alt=\"Open In Colab\"/></a>"
      ]
    },
    {
      "cell_type": "code",
      "metadata": {
        "id": "0GqkbyY0u2n8"
      },
      "source": [
        "# https://github.com/ine-rmotr-curriculum/freecodecamp-intro-to-numpy"
      ],
      "execution_count": null,
      "outputs": []
    },
    {
      "cell_type": "code",
      "metadata": {
        "id": "diZC9c-F3sLV"
      },
      "source": [
        "# FILE NAME FOR GITHUB:\r\n",
        "# numpy_exercises.ipynb"
      ],
      "execution_count": null,
      "outputs": []
    },
    {
      "cell_type": "code",
      "metadata": {
        "colab": {
          "base_uri": "https://localhost:8080/"
        },
        "id": "RshOTP26tbIW",
        "outputId": "02b3b7aa-316d-4dad-9c62-6548cc44fb09"
      },
      "source": [
        "import numpy as np\r\n",
        "print(np.__version__)"
      ],
      "execution_count": 1,
      "outputs": [
        {
          "output_type": "stream",
          "text": [
            "1.19.5\n"
          ],
          "name": "stdout"
        }
      ]
    },
    {
      "cell_type": "markdown",
      "metadata": {
        "id": "2bo3LWJ1L-nw"
      },
      "source": [
        "Array creation"
      ]
    },
    {
      "cell_type": "code",
      "metadata": {
        "colab": {
          "base_uri": "https://localhost:8080/"
        },
        "id": "YhZ6PwkOtmGj",
        "outputId": "dc7c44b7-287d-4c86-c7dc-81ef6077b698"
      },
      "source": [
        "# Create a numpy array of size 10, filled with zeros.\r\n",
        "a = np.zeros(10)\r\n",
        "a"
      ],
      "execution_count": null,
      "outputs": [
        {
          "output_type": "execute_result",
          "data": {
            "text/plain": [
              "array([0., 0., 0., 0., 0., 0., 0., 0., 0., 0.])"
            ]
          },
          "metadata": {
            "tags": []
          },
          "execution_count": 12
        }
      ]
    },
    {
      "cell_type": "code",
      "metadata": {
        "colab": {
          "base_uri": "https://localhost:8080/"
        },
        "id": "zr3SdGt9wwuy",
        "outputId": "fba158fd-f895-4f31-c766-8b57fdb0b06e"
      },
      "source": [
        "# Create a numpy array with values ranging from 10 to 49\r\n",
        "b = np.arange(10, 50, 1)\r\n",
        "b"
      ],
      "execution_count": null,
      "outputs": [
        {
          "output_type": "execute_result",
          "data": {
            "text/plain": [
              "array([10, 11, 12, 13, 14, 15, 16, 17, 18, 19, 20, 21, 22, 23, 24, 25, 26,\n",
              "       27, 28, 29, 30, 31, 32, 33, 34, 35, 36, 37, 38, 39, 40, 41, 42, 43,\n",
              "       44, 45, 46, 47, 48, 49])"
            ]
          },
          "metadata": {
            "tags": []
          },
          "execution_count": 25
        }
      ]
    },
    {
      "cell_type": "code",
      "metadata": {
        "colab": {
          "base_uri": "https://localhost:8080/"
        },
        "id": "0gyyy3WawxTq",
        "outputId": "3295fc98-2e83-4a17-d116-d27c4e65c44b"
      },
      "source": [
        "# Create a numpy matrix of 2*2 integers, filled with ones.\r\n",
        "c = np.ones([2,2], dtype=np.int)\r\n",
        "c"
      ],
      "execution_count": null,
      "outputs": [
        {
          "output_type": "execute_result",
          "data": {
            "text/plain": [
              "array([[1, 1],\n",
              "       [1, 1]])"
            ]
          },
          "metadata": {
            "tags": []
          },
          "execution_count": 20
        }
      ]
    },
    {
      "cell_type": "code",
      "metadata": {
        "colab": {
          "base_uri": "https://localhost:8080/"
        },
        "id": "XEqNXUDBx-gy",
        "outputId": "2530ecb5-2800-4a5e-8ca8-c926d2fd2cc9"
      },
      "source": [
        "# Create a numpy matrix of 3*2 float numbers, filled with ones.\r\n",
        "d = np.ones([3, 2], dtype=np.float)\r\n",
        "d"
      ],
      "execution_count": null,
      "outputs": [
        {
          "output_type": "execute_result",
          "data": {
            "text/plain": [
              "array([[1., 1.],\n",
              "       [1., 1.],\n",
              "       [1., 1.]])"
            ]
          },
          "metadata": {
            "tags": []
          },
          "execution_count": 22
        }
      ]
    },
    {
      "cell_type": "code",
      "metadata": {
        "colab": {
          "base_uri": "https://localhost:8080/"
        },
        "id": "xglU91CtzDG5",
        "outputId": "341410d2-5d72-4dda-a64d-93cddc448622"
      },
      "source": [
        "# Given the X numpy array, create a new numpy array with the same shape and type as X, filled with ones.\r\n",
        "e = np.ones_like(b) # np.ones_like: Return an array of ones with the same shape and type as a given array.\r\n",
        "e"
      ],
      "execution_count": null,
      "outputs": [
        {
          "output_type": "execute_result",
          "data": {
            "text/plain": [
              "array([1, 1, 1, 1, 1, 1, 1, 1, 1, 1, 1, 1, 1, 1, 1, 1, 1, 1, 1, 1, 1, 1,\n",
              "       1, 1, 1, 1, 1, 1, 1, 1, 1, 1, 1, 1, 1, 1, 1, 1, 1, 1])"
            ]
          },
          "metadata": {
            "tags": []
          },
          "execution_count": 27
        }
      ]
    },
    {
      "cell_type": "code",
      "metadata": {
        "colab": {
          "base_uri": "https://localhost:8080/"
        },
        "id": "eNfPmLTPzuLL",
        "outputId": "ec10a1c4-a8dc-425b-89ce-5d7d5d3bdc8b"
      },
      "source": [
        "# Given the X numpy matrix, create a new numpy matrix with the same shape and type as X, filled with zeros.\r\n",
        "f = np.zeros_like(d) # zeros_like: Return an array of zeros with the same shape and type as a given array.\r\n",
        "f"
      ],
      "execution_count": null,
      "outputs": [
        {
          "output_type": "execute_result",
          "data": {
            "text/plain": [
              "array([[0., 0.],\n",
              "       [0., 0.],\n",
              "       [0., 0.]])"
            ]
          },
          "metadata": {
            "tags": []
          },
          "execution_count": 28
        }
      ]
    },
    {
      "cell_type": "code",
      "metadata": {
        "colab": {
          "base_uri": "https://localhost:8080/"
        },
        "id": "jwr_Yt3l0syp",
        "outputId": "593899b5-0677-4521-f0c1-84957db010f0"
      },
      "source": [
        "# Create a numpy matrix of 4*4 integers, filled with fives.\r\n",
        "g = np.ones([4, 4], dtype=np.int)*5\r\n",
        "g"
      ],
      "execution_count": null,
      "outputs": [
        {
          "output_type": "execute_result",
          "data": {
            "text/plain": [
              "array([[5, 5, 5, 5],\n",
              "       [5, 5, 5, 5],\n",
              "       [5, 5, 5, 5],\n",
              "       [5, 5, 5, 5]])"
            ]
          },
          "metadata": {
            "tags": []
          },
          "execution_count": 32
        }
      ]
    },
    {
      "cell_type": "code",
      "metadata": {
        "colab": {
          "base_uri": "https://localhost:8080/"
        },
        "id": "uDV_YkE_1Ivq",
        "outputId": "b29f6c85-7226-4060-da48-ec1c127b5fbe"
      },
      "source": [
        "# Given the X numpy matrix, create a new numpy matrix with the same shape and type as X, filled with sevens.\r\n",
        "h = np.ones_like(g)*7\r\n",
        "h"
      ],
      "execution_count": null,
      "outputs": [
        {
          "output_type": "execute_result",
          "data": {
            "text/plain": [
              "array([[7, 7, 7, 7],\n",
              "       [7, 7, 7, 7],\n",
              "       [7, 7, 7, 7],\n",
              "       [7, 7, 7, 7]])"
            ]
          },
          "metadata": {
            "tags": []
          },
          "execution_count": 33
        }
      ]
    },
    {
      "cell_type": "code",
      "metadata": {
        "colab": {
          "base_uri": "https://localhost:8080/"
        },
        "id": "z3FwJ4mq1lUy",
        "outputId": "ecca5d7a-8649-468f-b993-e1cace2fcf49"
      },
      "source": [
        "# Create a 3*3 identity numpy matrix with ones on the diagonal and zeros elsewhere.\r\n",
        "i = np.eye(3) # np.eye: Return a 2-D array with ones on the diagonal and zeros elsewhere.\r\n",
        "i"
      ],
      "execution_count": null,
      "outputs": [
        {
          "output_type": "execute_result",
          "data": {
            "text/plain": [
              "array([[1., 0., 0.],\n",
              "       [0., 1., 0.],\n",
              "       [0., 0., 1.]])"
            ]
          },
          "metadata": {
            "tags": []
          },
          "execution_count": 35
        }
      ]
    },
    {
      "cell_type": "code",
      "metadata": {
        "colab": {
          "base_uri": "https://localhost:8080/"
        },
        "id": "RZVQqEaj109y",
        "outputId": "4b55c005-8225-469d-cb3d-eac4a66f520a"
      },
      "source": [
        "# Create a numpy array, filled with 3 random integer values between 1 and 10.\r\n",
        "# j = np.ones(3, dtype=np.int)*np.random.randint(10)\r\n",
        "j = np.random.randint(10, size=3)\r\n",
        "j"
      ],
      "execution_count": null,
      "outputs": [
        {
          "output_type": "execute_result",
          "data": {
            "text/plain": [
              "array([8, 8, 3])"
            ]
          },
          "metadata": {
            "tags": []
          },
          "execution_count": 40
        }
      ]
    },
    {
      "cell_type": "code",
      "metadata": {
        "id": "U1J6HOBQ2NzB",
        "colab": {
          "base_uri": "https://localhost:8080/"
        },
        "outputId": "2909bbd4-a5f8-4109-ed1e-5863b2360b62"
      },
      "source": [
        "# Create a 3*3*3 numpy matrix, filled with random float values.\r\n",
        "X = np.random.random(size=[3, 3, 3])\r\n",
        "# X\r\n",
        "\r\n",
        "np.random.randn(3,3,3) # Solution in exercises"
      ],
      "execution_count": 6,
      "outputs": [
        {
          "output_type": "execute_result",
          "data": {
            "text/plain": [
              "array([[[-0.45738711,  1.48101053,  1.28360513],\n",
              "        [ 0.44220203,  0.30076349, -0.82611797],\n",
              "        [ 0.74941303, -0.26841728, -0.39965244]],\n",
              "\n",
              "       [[-1.96247939, -0.59444246, -0.70103442],\n",
              "        [-0.53133786, -0.82803992, -0.57820647],\n",
              "        [ 0.26916352, -0.46922069,  0.07248143]],\n",
              "\n",
              "       [[-0.42528722,  0.60654518, -0.80801205],\n",
              "        [-0.98468482,  1.14160265, -1.34978389],\n",
              "        [-0.93931707, -1.62836132, -0.78876332]]])"
            ]
          },
          "metadata": {
            "tags": []
          },
          "execution_count": 6
        }
      ]
    },
    {
      "cell_type": "code",
      "metadata": {
        "colab": {
          "base_uri": "https://localhost:8080/"
        },
        "id": "vkZfppOuICod",
        "outputId": "b416e9c8-e5d7-4db1-fd24-4f3da79fc168"
      },
      "source": [
        "# Given the X python list convert it to an Y numpy array\r\n",
        "X = [1, 2, 3]\r\n",
        "print(X, type(X))\r\n",
        "\r\n",
        "Y = np.array(X)\r\n",
        "print(Y, type(Y))"
      ],
      "execution_count": 9,
      "outputs": [
        {
          "output_type": "stream",
          "text": [
            "[1, 2, 3] <class 'list'>\n",
            "[1 2 3] <class 'numpy.ndarray'>\n"
          ],
          "name": "stdout"
        }
      ]
    },
    {
      "cell_type": "code",
      "metadata": {
        "colab": {
          "base_uri": "https://localhost:8080/"
        },
        "id": "vmIshZjoIoVF",
        "outputId": "5522b112-5b6c-4758-bd01-cdaad0a89892"
      },
      "source": [
        "#  Given the X numpy array, make a copy and store it on Y.\r\n",
        "X = np.array([1, 2, 3])\r\n",
        "print(X, id(X))\r\n",
        "\r\n",
        "Y = np.copy(X)\r\n",
        "print(Y, id(Y)) # The id is different"
      ],
      "execution_count": 16,
      "outputs": [
        {
          "output_type": "stream",
          "text": [
            "[1 2 3] 139949095664576\n",
            "[1 2 3] 139949094772368\n"
          ],
          "name": "stdout"
        }
      ]
    },
    {
      "cell_type": "code",
      "metadata": {
        "colab": {
          "base_uri": "https://localhost:8080/"
        },
        "id": "Wfd0IE8LI74d",
        "outputId": "f07d2958-2867-4bb3-fd4a-c88b8490079c"
      },
      "source": [
        "# Create a numpy array with numbers from 1 to 10\r\n",
        "x = np.arange(1, 11)\r\n",
        "print(x, type(x))"
      ],
      "execution_count": 19,
      "outputs": [
        {
          "output_type": "stream",
          "text": [
            "[ 1  2  3  4  5  6  7  8  9 10] <class 'numpy.ndarray'>\n"
          ],
          "name": "stdout"
        }
      ]
    },
    {
      "cell_type": "code",
      "metadata": {
        "colab": {
          "base_uri": "https://localhost:8080/"
        },
        "id": "qsALo_gNJV32",
        "outputId": "8b50b253-1cea-402c-aef3-e9a0558607f7"
      },
      "source": [
        "# Create a numpy array with the odd numbers between 1 to 10\r\n",
        "np.arange(1, 11, 2)"
      ],
      "execution_count": 21,
      "outputs": [
        {
          "output_type": "execute_result",
          "data": {
            "text/plain": [
              "array([1, 3, 5, 7, 9])"
            ]
          },
          "metadata": {
            "tags": []
          },
          "execution_count": 21
        }
      ]
    },
    {
      "cell_type": "code",
      "metadata": {
        "colab": {
          "base_uri": "https://localhost:8080/"
        },
        "id": "xX5IfWjnJuVe",
        "outputId": "2021f363-0ff2-4759-8ad6-da445c393304"
      },
      "source": [
        "# Create a numpy array with numbers from 1 to 10, in descending order.\r\n",
        "np.arange(10, 0, -1)"
      ],
      "execution_count": 24,
      "outputs": [
        {
          "output_type": "execute_result",
          "data": {
            "text/plain": [
              "array([10,  9,  8,  7,  6,  5,  4,  3,  2,  1])"
            ]
          },
          "metadata": {
            "tags": []
          },
          "execution_count": 24
        }
      ]
    },
    {
      "cell_type": "code",
      "metadata": {
        "colab": {
          "base_uri": "https://localhost:8080/"
        },
        "id": "Q4q8HAiSJ2i-",
        "outputId": "c69641cc-30d7-4f72-f9d5-2006a7e6bba6"
      },
      "source": [
        "# Create a 3*3 numpy matrix, filled with values ranging from 0 to 8\r\n",
        "X = np.arange(9)\r\n",
        "X = X.reshape([3, 3])\r\n",
        "print(X)"
      ],
      "execution_count": 29,
      "outputs": [
        {
          "output_type": "stream",
          "text": [
            "[[0 1 2]\n",
            " [3 4 5]\n",
            " [6 7 8]]\n"
          ],
          "name": "stdout"
        }
      ]
    },
    {
      "cell_type": "code",
      "metadata": {
        "colab": {
          "base_uri": "https://localhost:8080/"
        },
        "id": "aOmZwIP0LACm",
        "outputId": "6f394788-e5ae-49bf-83c3-a85dc3536ae3"
      },
      "source": [
        "# Show the memory size of the given Z numpy matrix\r\n",
        "Z = np.arange(9).reshape(3, 3)\r\n",
        "Z.nbytes\r\n",
        "\r\n",
        "print(\"%d bytes\" % (Z.size * Z.itemsize))  # Solution in exercises"
      ],
      "execution_count": 37,
      "outputs": [
        {
          "output_type": "stream",
          "text": [
            "72 bytes\n"
          ],
          "name": "stdout"
        }
      ]
    },
    {
      "cell_type": "markdown",
      "metadata": {
        "id": "Mdcr4a8SMB4o"
      },
      "source": [
        "Array indentation"
      ]
    },
    {
      "cell_type": "code",
      "metadata": {
        "colab": {
          "base_uri": "https://localhost:8080/",
          "height": 35
        },
        "id": "J8gs2nctLZvT",
        "outputId": "7f285d2f-898d-4c53-c0d9-c41371c20440"
      },
      "source": [
        "# Given the X numpy array, show it's first element\r\n",
        "X = np.array(['A', 'B', 'C', 'D', 'E'])\r\n",
        "X[0]"
      ],
      "execution_count": 43,
      "outputs": [
        {
          "output_type": "execute_result",
          "data": {
            "application/vnd.google.colaboratory.intrinsic+json": {
              "type": "string"
            },
            "text/plain": [
              "'A'"
            ]
          },
          "metadata": {
            "tags": []
          },
          "execution_count": 43
        }
      ]
    },
    {
      "cell_type": "code",
      "metadata": {
        "colab": {
          "base_uri": "https://localhost:8080/",
          "height": 35
        },
        "id": "03WtETFIMJCF",
        "outputId": "d1e011f5-e738-4eff-c266-ac21bc4bb667"
      },
      "source": [
        "# Given the X numpy array, show it's last element\r\n",
        "X[-1]"
      ],
      "execution_count": 44,
      "outputs": [
        {
          "output_type": "execute_result",
          "data": {
            "application/vnd.google.colaboratory.intrinsic+json": {
              "type": "string"
            },
            "text/plain": [
              "'E'"
            ]
          },
          "metadata": {
            "tags": []
          },
          "execution_count": 44
        }
      ]
    },
    {
      "cell_type": "code",
      "metadata": {
        "colab": {
          "base_uri": "https://localhost:8080/"
        },
        "id": "KvuaXSTZMX4N",
        "outputId": "be5e66b1-44bb-4483-f096-3cdd2d849f6b"
      },
      "source": [
        "# Given the X numpy array, show it's first three elements\r\n",
        "X[:3]"
      ],
      "execution_count": 45,
      "outputs": [
        {
          "output_type": "execute_result",
          "data": {
            "text/plain": [
              "array(['A', 'B', 'C'], dtype='<U1')"
            ]
          },
          "metadata": {
            "tags": []
          },
          "execution_count": 45
        }
      ]
    },
    {
      "cell_type": "code",
      "metadata": {
        "colab": {
          "base_uri": "https://localhost:8080/"
        },
        "id": "qdV6PGYUMcGN",
        "outputId": "c0904b97-8692-4dd5-e32c-2076cc5e21f4"
      },
      "source": [
        "#  Given the X numpy array, show all middle elements\r\n",
        "X[1:-1]"
      ],
      "execution_count": 46,
      "outputs": [
        {
          "output_type": "execute_result",
          "data": {
            "text/plain": [
              "array(['B', 'C', 'D'], dtype='<U1')"
            ]
          },
          "metadata": {
            "tags": []
          },
          "execution_count": 46
        }
      ]
    },
    {
      "cell_type": "code",
      "metadata": {
        "colab": {
          "base_uri": "https://localhost:8080/"
        },
        "id": "hJZ5EUcTMi1V",
        "outputId": "a9228aab-eab7-4756-e9f0-5191fb536b4d"
      },
      "source": [
        "# Given the X numpy array, show the elements in reverse position\r\n",
        "X[::-1]"
      ],
      "execution_count": 47,
      "outputs": [
        {
          "output_type": "execute_result",
          "data": {
            "text/plain": [
              "array(['E', 'D', 'C', 'B', 'A'], dtype='<U1')"
            ]
          },
          "metadata": {
            "tags": []
          },
          "execution_count": 47
        }
      ]
    },
    {
      "cell_type": "code",
      "metadata": {
        "colab": {
          "base_uri": "https://localhost:8080/"
        },
        "id": "G9zgxKBxMpst",
        "outputId": "1e7712a3-e568-46b6-e730-eecd5189e6a3"
      },
      "source": [
        "# Given the X numpy array, show the elements in an odd position\r\n",
        "X[::2]"
      ],
      "execution_count": 48,
      "outputs": [
        {
          "output_type": "execute_result",
          "data": {
            "text/plain": [
              "array(['A', 'C', 'E'], dtype='<U1')"
            ]
          },
          "metadata": {
            "tags": []
          },
          "execution_count": 48
        }
      ]
    },
    {
      "cell_type": "code",
      "metadata": {
        "colab": {
          "base_uri": "https://localhost:8080/"
        },
        "id": "1pyoOZSvNbpO",
        "outputId": "d93f80a1-d05f-4d27-aff7-749dac220204"
      },
      "source": [
        "# Given the X numpy matrix, show the first row elements\r\n",
        "X = np.arange(12).reshape(4, 3)\r\n",
        "print(X)\r\n",
        "X[0,:]"
      ],
      "execution_count": 65,
      "outputs": [
        {
          "output_type": "stream",
          "text": [
            "[[ 0  1  2]\n",
            " [ 3  4  5]\n",
            " [ 6  7  8]\n",
            " [ 9 10 11]]\n"
          ],
          "name": "stdout"
        },
        {
          "output_type": "execute_result",
          "data": {
            "text/plain": [
              "array([0, 1, 2])"
            ]
          },
          "metadata": {
            "tags": []
          },
          "execution_count": 65
        }
      ]
    },
    {
      "cell_type": "code",
      "metadata": {
        "colab": {
          "base_uri": "https://localhost:8080/"
        },
        "id": "6FtJIluqNmTu",
        "outputId": "102bf408-3c26-4a16-a2e8-ef0e8f8ce8da"
      },
      "source": [
        "# Given the X numpy matrix, show the last row elements\r\n",
        "X[-1]"
      ],
      "execution_count": 60,
      "outputs": [
        {
          "output_type": "execute_result",
          "data": {
            "text/plain": [
              "array([6, 7, 8])"
            ]
          },
          "metadata": {
            "tags": []
          },
          "execution_count": 60
        }
      ]
    },
    {
      "cell_type": "code",
      "metadata": {
        "colab": {
          "base_uri": "https://localhost:8080/"
        },
        "id": "2k8dw5N5OK_F",
        "outputId": "d279ee5e-cc96-4780-9454-3e1b8388d035"
      },
      "source": [
        "# Given the X numpy matrix, show the first element on first row\r\n",
        "X[0,0]"
      ],
      "execution_count": 61,
      "outputs": [
        {
          "output_type": "execute_result",
          "data": {
            "text/plain": [
              "0"
            ]
          },
          "metadata": {
            "tags": []
          },
          "execution_count": 61
        }
      ]
    },
    {
      "cell_type": "code",
      "metadata": {
        "colab": {
          "base_uri": "https://localhost:8080/"
        },
        "id": "ObeU9ubmOPqG",
        "outputId": "639e93b8-3b36-474a-dd8b-1d1a962c9e07"
      },
      "source": [
        "# Given the X numpy matrix, show the last element on last row\r\n",
        "X[-1,-1]"
      ],
      "execution_count": 62,
      "outputs": [
        {
          "output_type": "execute_result",
          "data": {
            "text/plain": [
              "8"
            ]
          },
          "metadata": {
            "tags": []
          },
          "execution_count": 62
        }
      ]
    },
    {
      "cell_type": "code",
      "metadata": {
        "colab": {
          "base_uri": "https://localhost:8080/"
        },
        "id": "-7n1fmFROl12",
        "outputId": "4fe10c51-a0b9-40bb-dd49-cd5adeb1dde9"
      },
      "source": [
        "# Given the X numpy matrix, show the middle row elements\r\n",
        "X[1:-1]"
      ],
      "execution_count": 66,
      "outputs": [
        {
          "output_type": "execute_result",
          "data": {
            "text/plain": [
              "array([[3, 4, 5],\n",
              "       [6, 7, 8]])"
            ]
          },
          "metadata": {
            "tags": []
          },
          "execution_count": 66
        }
      ]
    },
    {
      "cell_type": "code",
      "metadata": {
        "colab": {
          "base_uri": "https://localhost:8080/"
        },
        "id": "YFvucc0SOyCF",
        "outputId": "6ad3f725-a078-4a03-9604-b4339b593907"
      },
      "source": [
        "# Given the X numpy matrix, show the first two elements on the first two rows\r\n",
        "X[:2,:2]"
      ],
      "execution_count": 68,
      "outputs": [
        {
          "output_type": "execute_result",
          "data": {
            "text/plain": [
              "array([[0, 1],\n",
              "       [3, 4]])"
            ]
          },
          "metadata": {
            "tags": []
          },
          "execution_count": 68
        }
      ]
    },
    {
      "cell_type": "code",
      "metadata": {
        "colab": {
          "base_uri": "https://localhost:8080/"
        },
        "id": "W0CSq3oOPA3-",
        "outputId": "8a7fabf9-ee56-4d93-a0cc-fdaab4946500"
      },
      "source": [
        "# Given the X numpy matrix, show the last two elements on the last two rows\r\n",
        "X[-2:,-2:]"
      ],
      "execution_count": 81,
      "outputs": [
        {
          "output_type": "execute_result",
          "data": {
            "text/plain": [
              "array([[ 7,  8],\n",
              "       [10, 11]])"
            ]
          },
          "metadata": {
            "tags": []
          },
          "execution_count": 81
        }
      ]
    },
    {
      "cell_type": "markdown",
      "metadata": {
        "id": "zEZueHpHP2dY"
      },
      "source": [
        "Array manipulation"
      ]
    },
    {
      "cell_type": "code",
      "metadata": {
        "colab": {
          "base_uri": "https://localhost:8080/"
        },
        "id": "9cA3ztqzPM3m",
        "outputId": "7ba6ff5c-7a8b-495b-bbe9-ab3d52a7a8b5"
      },
      "source": [
        "# Convert the given integer numpy array to float\r\n",
        "X = [-5, -3, 0, 10, 40]\r\n",
        "X = np.array(X, dtype=float)\r\n",
        "print(X, type(X))"
      ],
      "execution_count": 85,
      "outputs": [
        {
          "output_type": "stream",
          "text": [
            "[-5. -3.  0. 10. 40.] <class 'numpy.ndarray'>\n"
          ],
          "name": "stdout"
        }
      ]
    },
    {
      "cell_type": "code",
      "metadata": {
        "colab": {
          "base_uri": "https://localhost:8080/"
        },
        "id": "hQN_A969P-k7",
        "outputId": "92fb0afe-8872-41a0-a476-7bd4ebb7a22b"
      },
      "source": [
        "# Reverse the given numpy array (first element becomes last)\r\n",
        "X[::-1]"
      ],
      "execution_count": 89,
      "outputs": [
        {
          "output_type": "execute_result",
          "data": {
            "text/plain": [
              "[40, 10, 0, -3, -5]"
            ]
          },
          "metadata": {
            "tags": []
          },
          "execution_count": 89
        }
      ]
    },
    {
      "cell_type": "code",
      "metadata": {
        "colab": {
          "base_uri": "https://localhost:8080/"
        },
        "id": "1ADSTk8zQZ09",
        "outputId": "9c9eb4f0-ed8a-4ff8-d028-e404e56a9139"
      },
      "source": [
        "# Order (sort) the given numpy array\r\n",
        "X.sort()\r\n",
        "X"
      ],
      "execution_count": 91,
      "outputs": [
        {
          "output_type": "execute_result",
          "data": {
            "text/plain": [
              "[-5, -3, 0, 10, 40]"
            ]
          },
          "metadata": {
            "tags": []
          },
          "execution_count": 91
        }
      ]
    },
    {
      "cell_type": "code",
      "metadata": {
        "colab": {
          "base_uri": "https://localhost:8080/"
        },
        "id": "6lLulNXuQlYt",
        "outputId": "505364b5-b60d-4a09-9485-75797e2d066d"
      },
      "source": [
        "# Given the X numpy array, set the fifth element equal to 1\r\n",
        "X[4] = 1\r\n",
        "X"
      ],
      "execution_count": 92,
      "outputs": [
        {
          "output_type": "execute_result",
          "data": {
            "text/plain": [
              "[-5, -3, 0, 10, 1]"
            ]
          },
          "metadata": {
            "tags": []
          },
          "execution_count": 92
        }
      ]
    },
    {
      "cell_type": "code",
      "metadata": {
        "colab": {
          "base_uri": "https://localhost:8080/"
        },
        "id": "vp1xwxGiQtG8",
        "outputId": "f3c376eb-c1a1-4d18-c28c-36de6fbd47f5"
      },
      "source": [
        "#  Given the X numpy array, change the 50 with a 40\r\n",
        "X = np.array([10, 20, 30, 50])\r\n",
        "X[X==50] = 40\r\n",
        "X"
      ],
      "execution_count": 93,
      "outputs": [
        {
          "output_type": "execute_result",
          "data": {
            "text/plain": [
              "array([10, 20, 30, 40])"
            ]
          },
          "metadata": {
            "tags": []
          },
          "execution_count": 93
        }
      ]
    },
    {
      "cell_type": "code",
      "metadata": {
        "colab": {
          "base_uri": "https://localhost:8080/"
        },
        "id": "msLkfyNmQ459",
        "outputId": "7698269f-d56a-4e46-a7bf-9b571f495580"
      },
      "source": [
        "# Given the X numpy matrix, change the last row with all 1\r\n",
        "X = np.array([\r\n",
        "    [1,   2,  3,  4],\r\n",
        "    [5,   6,  7,  8],\r\n",
        "    [9,  10, 11, 12],\r\n",
        "    [13, 14, 15, 16]\r\n",
        "])\r\n",
        "\r\n",
        "X[-1,:] = np.ones(X.shape[1]) # This way the number of elements is determined programmatically\r\n",
        "X"
      ],
      "execution_count": 94,
      "outputs": [
        {
          "output_type": "execute_result",
          "data": {
            "text/plain": [
              "array([[ 1,  2,  3,  4],\n",
              "       [ 5,  6,  7,  8],\n",
              "       [ 9, 10, 11, 12],\n",
              "       [ 1,  1,  1,  1]])"
            ]
          },
          "metadata": {
            "tags": []
          },
          "execution_count": 94
        }
      ]
    },
    {
      "cell_type": "code",
      "metadata": {
        "colab": {
          "base_uri": "https://localhost:8080/"
        },
        "id": "54t6wBF1RLol",
        "outputId": "f78e8d63-25dd-416f-8fbf-4963437ffad2"
      },
      "source": [
        "# Given the X numpy matrix, change the last item on the last row with a 0\r\n",
        "X = np.array([\r\n",
        "    [1,   2,  3,  4],\r\n",
        "    [5,   6,  7,  8],\r\n",
        "    [9,  10, 11, 12],\r\n",
        "    [13, 14, 15, 16]\r\n",
        "])\r\n",
        "\r\n",
        "X[-1,-1] = 0\r\n",
        "X"
      ],
      "execution_count": 99,
      "outputs": [
        {
          "output_type": "execute_result",
          "data": {
            "text/plain": [
              "array([[ 1,  2,  3,  4],\n",
              "       [ 5,  6,  7,  8],\n",
              "       [ 9, 10, 11, 12],\n",
              "       [13, 14, 15,  0]])"
            ]
          },
          "metadata": {
            "tags": []
          },
          "execution_count": 99
        }
      ]
    },
    {
      "cell_type": "code",
      "metadata": {
        "colab": {
          "base_uri": "https://localhost:8080/"
        },
        "id": "WjVh6XIDRZZN",
        "outputId": "d3bf86c9-579f-4fcd-f83c-bb282daca46d"
      },
      "source": [
        "# Given the X numpy matrix, add 5 to every element\r\n",
        "X = np.array([\r\n",
        "    [1,   2,  3,  4],\r\n",
        "    [5,   6,  7,  8],\r\n",
        "    [9,  10, 11, 12],\r\n",
        "    [13, 14, 15, 16]\r\n",
        "])\r\n",
        "\r\n",
        "X+5"
      ],
      "execution_count": 100,
      "outputs": [
        {
          "output_type": "execute_result",
          "data": {
            "text/plain": [
              "array([[ 6,  7,  8,  9],\n",
              "       [10, 11, 12, 13],\n",
              "       [14, 15, 16, 17],\n",
              "       [18, 19, 20, 21]])"
            ]
          },
          "metadata": {
            "tags": []
          },
          "execution_count": 100
        }
      ]
    },
    {
      "cell_type": "markdown",
      "metadata": {
        "id": "FpSWzt3WRt_3"
      },
      "source": [
        "Boolean arrays (also called masks)"
      ]
    },
    {
      "cell_type": "code",
      "metadata": {
        "colab": {
          "base_uri": "https://localhost:8080/"
        },
        "id": "upg1kUD2RriN",
        "outputId": "7d7823c9-fe59-494c-c43e-a21f8d5aec6f"
      },
      "source": [
        "# Given the X numpy array, make a mask showing negative elements\r\n",
        "X = np.array([-1,2,0,-4,5,6,0,0,-9,10])\r\n",
        "\r\n",
        "mask = X<0\r\n",
        "mask"
      ],
      "execution_count": 103,
      "outputs": [
        {
          "output_type": "execute_result",
          "data": {
            "text/plain": [
              "array([ True, False, False,  True, False, False, False, False,  True,\n",
              "       False])"
            ]
          },
          "metadata": {
            "tags": []
          },
          "execution_count": 103
        }
      ]
    },
    {
      "cell_type": "code",
      "metadata": {
        "colab": {
          "base_uri": "https://localhost:8080/"
        },
        "id": "8XblgAWSR4iN",
        "outputId": "3810e679-b698-4f37-fa9c-d9a2a415a406"
      },
      "source": [
        "# Given the X numpy array, get the negative elements\r\n",
        "X[X<0]"
      ],
      "execution_count": 104,
      "outputs": [
        {
          "output_type": "execute_result",
          "data": {
            "text/plain": [
              "array([-1, -4, -9])"
            ]
          },
          "metadata": {
            "tags": []
          },
          "execution_count": 104
        }
      ]
    },
    {
      "cell_type": "code",
      "metadata": {
        "colab": {
          "base_uri": "https://localhost:8080/"
        },
        "id": "NrfZ5e3KSHnV",
        "outputId": "ce591a7e-d09b-4c77-9b01-285d2e0f61a4"
      },
      "source": [
        "# Given the X numpy array, get numbers higher than 5\r\n",
        "X[X>5]"
      ],
      "execution_count": 105,
      "outputs": [
        {
          "output_type": "execute_result",
          "data": {
            "text/plain": [
              "array([ 6, 10])"
            ]
          },
          "metadata": {
            "tags": []
          },
          "execution_count": 105
        }
      ]
    },
    {
      "cell_type": "code",
      "metadata": {
        "colab": {
          "base_uri": "https://localhost:8080/"
        },
        "id": "BVjtFlvDSKv1",
        "outputId": "59197c17-11f7-46a4-fff4-343f6ae7fa8a"
      },
      "source": [
        "# Given the X numpy array, get numbers higher than the elements mean\r\n",
        "X[X>X.mean()]"
      ],
      "execution_count": 107,
      "outputs": [
        {
          "output_type": "execute_result",
          "data": {
            "text/plain": [
              "array([ 2,  5,  6, 10])"
            ]
          },
          "metadata": {
            "tags": []
          },
          "execution_count": 107
        }
      ]
    },
    {
      "cell_type": "code",
      "metadata": {
        "colab": {
          "base_uri": "https://localhost:8080/"
        },
        "id": "lEhOTb62SQ2V",
        "outputId": "73e28b45-d5ab-4f60-f791-90aa1ed15ad2"
      },
      "source": [
        "# Given the X numpy array, get numbers equal to 2 or 10\r\n",
        "X[(X==2) | (X==10)]"
      ],
      "execution_count": 109,
      "outputs": [
        {
          "output_type": "execute_result",
          "data": {
            "text/plain": [
              "array([ 2, 10])"
            ]
          },
          "metadata": {
            "tags": []
          },
          "execution_count": 109
        }
      ]
    },
    {
      "cell_type": "markdown",
      "metadata": {
        "id": "rkBXzFsVSfjX"
      },
      "source": [
        "Logic functions"
      ]
    },
    {
      "cell_type": "code",
      "metadata": {
        "colab": {
          "base_uri": "https://localhost:8080/"
        },
        "id": "FhfTVEG5SXdN",
        "outputId": "909d1ff5-6de8-4ecc-8dc4-dacec898cc01"
      },
      "source": [
        "# Given the X numpy array, return True if none of its elements is zero\r\n",
        "X = np.array([-1, 2, 0, -4, 5, 6, 0, 0, -9, 10])\r\n",
        "\r\n",
        "X.all()"
      ],
      "execution_count": 110,
      "outputs": [
        {
          "output_type": "execute_result",
          "data": {
            "text/plain": [
              "False"
            ]
          },
          "metadata": {
            "tags": []
          },
          "execution_count": 110
        }
      ]
    },
    {
      "cell_type": "code",
      "metadata": {
        "colab": {
          "base_uri": "https://localhost:8080/"
        },
        "id": "P4uKbBRISthm",
        "outputId": "5003915e-c192-4856-bf1d-c76332198771"
      },
      "source": [
        "# Given the X numpy array, return True if any of its elements is zero\r\n",
        "X.any()"
      ],
      "execution_count": 112,
      "outputs": [
        {
          "output_type": "execute_result",
          "data": {
            "text/plain": [
              "True"
            ]
          },
          "metadata": {
            "tags": []
          },
          "execution_count": 112
        }
      ]
    },
    {
      "cell_type": "markdown",
      "metadata": {
        "id": "UdOJuwL4S7vY"
      },
      "source": [
        "Summay statistics"
      ]
    },
    {
      "cell_type": "code",
      "metadata": {
        "colab": {
          "base_uri": "https://localhost:8080/"
        },
        "id": "kJcL8TMIS2ol",
        "outputId": "96952f60-f432-4ad5-fac5-39228e94edd9"
      },
      "source": [
        "# Given the X numpy array, show the sum of its elements\r\n",
        "X = np.array([3, 5, 6, 7, 2, 3, 4, 9, 4])\r\n",
        "\r\n",
        "X.sum()"
      ],
      "execution_count": 113,
      "outputs": [
        {
          "output_type": "execute_result",
          "data": {
            "text/plain": [
              "43"
            ]
          },
          "metadata": {
            "tags": []
          },
          "execution_count": 113
        }
      ]
    },
    {
      "cell_type": "code",
      "metadata": {
        "colab": {
          "base_uri": "https://localhost:8080/"
        },
        "id": "mmEWzX5wTDfd",
        "outputId": "278de843-e7e8-4244-fd9c-2e726c3cfb03"
      },
      "source": [
        "# Given the X numpy array, show the mean value of its elements\r\n",
        "X.mean()"
      ],
      "execution_count": 114,
      "outputs": [
        {
          "output_type": "execute_result",
          "data": {
            "text/plain": [
              "4.777777777777778"
            ]
          },
          "metadata": {
            "tags": []
          },
          "execution_count": 114
        }
      ]
    },
    {
      "cell_type": "code",
      "metadata": {
        "colab": {
          "base_uri": "https://localhost:8080/"
        },
        "id": "DEOC0aVHTGwk",
        "outputId": "55d82b04-da21-4aaa-d0f1-fe5eed172140"
      },
      "source": [
        "# Given the X numpy matrix, show the sum of its columns\r\n",
        "X = np.array([\r\n",
        "    [1,   2,  3,  4],\r\n",
        "    [5,   6,  7,  8],\r\n",
        "    [9,  10, 11, 12],\r\n",
        "    [13, 14, 15, 16]\r\n",
        "])\r\n",
        "\r\n",
        "X.sum(axis=0) # remember: axis=0 columns; axis=1 rows"
      ],
      "execution_count": 119,
      "outputs": [
        {
          "output_type": "execute_result",
          "data": {
            "text/plain": [
              "array([28, 32, 36, 40])"
            ]
          },
          "metadata": {
            "tags": []
          },
          "execution_count": 119
        }
      ]
    },
    {
      "cell_type": "code",
      "metadata": {
        "colab": {
          "base_uri": "https://localhost:8080/"
        },
        "id": "ygAQVodcTN-V",
        "outputId": "12164f52-2624-4240-a803-37c4d8f28e5f"
      },
      "source": [
        "# Given the X numpy matrix, show the mean value of its rows\r\n",
        "X.mean(axis=1)"
      ],
      "execution_count": 120,
      "outputs": [
        {
          "output_type": "execute_result",
          "data": {
            "text/plain": [
              "array([ 2.5,  6.5, 10.5, 14.5])"
            ]
          },
          "metadata": {
            "tags": []
          },
          "execution_count": 120
        }
      ]
    },
    {
      "cell_type": "code",
      "metadata": {
        "colab": {
          "base_uri": "https://localhost:8080/"
        },
        "id": "D-BSKKFBTcVt",
        "outputId": "8f918258-1ec8-4b73-e019-a51e89b09dea"
      },
      "source": [
        "# Given the X numpy array, show the max value of its elements\r\n",
        "X = np.array([1, 2, 0, 4, 5, 6, 0, 0, 9, 10])\r\n",
        "\r\n",
        "X.max()"
      ],
      "execution_count": 121,
      "outputs": [
        {
          "output_type": "execute_result",
          "data": {
            "text/plain": [
              "10"
            ]
          },
          "metadata": {
            "tags": []
          },
          "execution_count": 121
        }
      ]
    },
    {
      "cell_type": "code",
      "metadata": {
        "id": "uriIOD8yTkot"
      },
      "source": [
        ""
      ],
      "execution_count": null,
      "outputs": []
    }
  ]
}