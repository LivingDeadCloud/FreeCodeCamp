{
  "nbformat": 4,
  "nbformat_minor": 0,
  "metadata": {
    "colab": {
      "name": "Untitled1.ipynb",
      "provenance": [],
      "collapsed_sections": [],
      "authorship_tag": "ABX9TyO3Fi931HOmgZBOIz0+TvPS",
      "include_colab_link": true
    },
    "kernelspec": {
      "name": "python3",
      "display_name": "Python 3"
    }
  },
  "cells": [
    {
      "cell_type": "markdown",
      "metadata": {
        "id": "view-in-github",
        "colab_type": "text"
      },
      "source": [
        "<a href=\"https://colab.research.google.com/github/LivingDeadCloud/FreeCodeCamp/blob/main/numpy_exercises.ipynb\" target=\"_parent\"><img src=\"https://colab.research.google.com/assets/colab-badge.svg\" alt=\"Open In Colab\"/></a>"
      ]
    },
    {
      "cell_type": "code",
      "metadata": {
        "id": "0GqkbyY0u2n8"
      },
      "source": [
        "# https://github.com/ine-rmotr-curriculum/freecodecamp-intro-to-numpy"
      ],
      "execution_count": 41,
      "outputs": []
    },
    {
      "cell_type": "code",
      "metadata": {
        "id": "diZC9c-F3sLV"
      },
      "source": [
        "# FILE NAME FOR GITHUB:\r\n",
        "# numpy_exercises.ipynb"
      ],
      "execution_count": 42,
      "outputs": []
    },
    {
      "cell_type": "code",
      "metadata": {
        "colab": {
          "base_uri": "https://localhost:8080/"
        },
        "id": "RshOTP26tbIW",
        "outputId": "8f8274ba-b59c-4dd8-d283-ae594c7984ff"
      },
      "source": [
        "import numpy as np\r\n",
        "print(np.__version__)"
      ],
      "execution_count": 11,
      "outputs": [
        {
          "output_type": "stream",
          "text": [
            "1.19.5\n"
          ],
          "name": "stdout"
        }
      ]
    },
    {
      "cell_type": "code",
      "metadata": {
        "colab": {
          "base_uri": "https://localhost:8080/"
        },
        "id": "YhZ6PwkOtmGj",
        "outputId": "dc7c44b7-287d-4c86-c7dc-81ef6077b698"
      },
      "source": [
        "# Create a numpy array of size 10, filled with zeros.\r\n",
        "a = np.zeros(10)\r\n",
        "a"
      ],
      "execution_count": 12,
      "outputs": [
        {
          "output_type": "execute_result",
          "data": {
            "text/plain": [
              "array([0., 0., 0., 0., 0., 0., 0., 0., 0., 0.])"
            ]
          },
          "metadata": {
            "tags": []
          },
          "execution_count": 12
        }
      ]
    },
    {
      "cell_type": "code",
      "metadata": {
        "colab": {
          "base_uri": "https://localhost:8080/"
        },
        "id": "zr3SdGt9wwuy",
        "outputId": "fba158fd-f895-4f31-c766-8b57fdb0b06e"
      },
      "source": [
        "# Create a numpy array with values ranging from 10 to 49\r\n",
        "b = np.arange(10, 50, 1)\r\n",
        "b"
      ],
      "execution_count": 25,
      "outputs": [
        {
          "output_type": "execute_result",
          "data": {
            "text/plain": [
              "array([10, 11, 12, 13, 14, 15, 16, 17, 18, 19, 20, 21, 22, 23, 24, 25, 26,\n",
              "       27, 28, 29, 30, 31, 32, 33, 34, 35, 36, 37, 38, 39, 40, 41, 42, 43,\n",
              "       44, 45, 46, 47, 48, 49])"
            ]
          },
          "metadata": {
            "tags": []
          },
          "execution_count": 25
        }
      ]
    },
    {
      "cell_type": "code",
      "metadata": {
        "colab": {
          "base_uri": "https://localhost:8080/"
        },
        "id": "0gyyy3WawxTq",
        "outputId": "3295fc98-2e83-4a17-d116-d27c4e65c44b"
      },
      "source": [
        "# Create a numpy matrix of 2*2 integers, filled with ones.\r\n",
        "c = np.ones([2,2], dtype=np.int)\r\n",
        "c"
      ],
      "execution_count": 20,
      "outputs": [
        {
          "output_type": "execute_result",
          "data": {
            "text/plain": [
              "array([[1, 1],\n",
              "       [1, 1]])"
            ]
          },
          "metadata": {
            "tags": []
          },
          "execution_count": 20
        }
      ]
    },
    {
      "cell_type": "code",
      "metadata": {
        "colab": {
          "base_uri": "https://localhost:8080/"
        },
        "id": "XEqNXUDBx-gy",
        "outputId": "2530ecb5-2800-4a5e-8ca8-c926d2fd2cc9"
      },
      "source": [
        "# Create a numpy matrix of 3*2 float numbers, filled with ones.\r\n",
        "d = np.ones([3, 2], dtype=np.float)\r\n",
        "d"
      ],
      "execution_count": 22,
      "outputs": [
        {
          "output_type": "execute_result",
          "data": {
            "text/plain": [
              "array([[1., 1.],\n",
              "       [1., 1.],\n",
              "       [1., 1.]])"
            ]
          },
          "metadata": {
            "tags": []
          },
          "execution_count": 22
        }
      ]
    },
    {
      "cell_type": "code",
      "metadata": {
        "colab": {
          "base_uri": "https://localhost:8080/"
        },
        "id": "xglU91CtzDG5",
        "outputId": "341410d2-5d72-4dda-a64d-93cddc448622"
      },
      "source": [
        "# Given the X numpy array, create a new numpy array with the same shape and type as X, filled with ones.\r\n",
        "e = np.ones_like(b) # np.ones_like: Return an array of ones with the same shape and type as a given array.\r\n",
        "e"
      ],
      "execution_count": 27,
      "outputs": [
        {
          "output_type": "execute_result",
          "data": {
            "text/plain": [
              "array([1, 1, 1, 1, 1, 1, 1, 1, 1, 1, 1, 1, 1, 1, 1, 1, 1, 1, 1, 1, 1, 1,\n",
              "       1, 1, 1, 1, 1, 1, 1, 1, 1, 1, 1, 1, 1, 1, 1, 1, 1, 1])"
            ]
          },
          "metadata": {
            "tags": []
          },
          "execution_count": 27
        }
      ]
    },
    {
      "cell_type": "code",
      "metadata": {
        "colab": {
          "base_uri": "https://localhost:8080/"
        },
        "id": "eNfPmLTPzuLL",
        "outputId": "ec10a1c4-a8dc-425b-89ce-5d7d5d3bdc8b"
      },
      "source": [
        "# Given the X numpy matrix, create a new numpy matrix with the same shape and type as X, filled with zeros.\r\n",
        "f = np.zeros_like(d) # zeros_like: Return an array of zeros with the same shape and type as a given array.\r\n",
        "f"
      ],
      "execution_count": 28,
      "outputs": [
        {
          "output_type": "execute_result",
          "data": {
            "text/plain": [
              "array([[0., 0.],\n",
              "       [0., 0.],\n",
              "       [0., 0.]])"
            ]
          },
          "metadata": {
            "tags": []
          },
          "execution_count": 28
        }
      ]
    },
    {
      "cell_type": "code",
      "metadata": {
        "colab": {
          "base_uri": "https://localhost:8080/"
        },
        "id": "jwr_Yt3l0syp",
        "outputId": "593899b5-0677-4521-f0c1-84957db010f0"
      },
      "source": [
        "# Create a numpy matrix of 4*4 integers, filled with fives.\r\n",
        "g = np.ones([4, 4], dtype=np.int)*5\r\n",
        "g"
      ],
      "execution_count": 32,
      "outputs": [
        {
          "output_type": "execute_result",
          "data": {
            "text/plain": [
              "array([[5, 5, 5, 5],\n",
              "       [5, 5, 5, 5],\n",
              "       [5, 5, 5, 5],\n",
              "       [5, 5, 5, 5]])"
            ]
          },
          "metadata": {
            "tags": []
          },
          "execution_count": 32
        }
      ]
    },
    {
      "cell_type": "code",
      "metadata": {
        "colab": {
          "base_uri": "https://localhost:8080/"
        },
        "id": "uDV_YkE_1Ivq",
        "outputId": "b29f6c85-7226-4060-da48-ec1c127b5fbe"
      },
      "source": [
        "# Given the X numpy matrix, create a new numpy matrix with the same shape and type as X, filled with sevens.\r\n",
        "h = np.ones_like(g)*7\r\n",
        "h"
      ],
      "execution_count": 33,
      "outputs": [
        {
          "output_type": "execute_result",
          "data": {
            "text/plain": [
              "array([[7, 7, 7, 7],\n",
              "       [7, 7, 7, 7],\n",
              "       [7, 7, 7, 7],\n",
              "       [7, 7, 7, 7]])"
            ]
          },
          "metadata": {
            "tags": []
          },
          "execution_count": 33
        }
      ]
    },
    {
      "cell_type": "code",
      "metadata": {
        "colab": {
          "base_uri": "https://localhost:8080/"
        },
        "id": "z3FwJ4mq1lUy",
        "outputId": "ecca5d7a-8649-468f-b993-e1cace2fcf49"
      },
      "source": [
        "# Create a 3*3 identity numpy matrix with ones on the diagonal and zeros elsewhere.\r\n",
        "i = np.eye(3) # np.eye: Return a 2-D array with ones on the diagonal and zeros elsewhere.\r\n",
        "i"
      ],
      "execution_count": 35,
      "outputs": [
        {
          "output_type": "execute_result",
          "data": {
            "text/plain": [
              "array([[1., 0., 0.],\n",
              "       [0., 1., 0.],\n",
              "       [0., 0., 1.]])"
            ]
          },
          "metadata": {
            "tags": []
          },
          "execution_count": 35
        }
      ]
    },
    {
      "cell_type": "code",
      "metadata": {
        "colab": {
          "base_uri": "https://localhost:8080/"
        },
        "id": "RZVQqEaj109y",
        "outputId": "4b55c005-8225-469d-cb3d-eac4a66f520a"
      },
      "source": [
        "# Create a numpy array, filled with 3 random integer values between 1 and 10.\r\n",
        "# j = np.ones(3, dtype=np.int)*np.random.randint(10)\r\n",
        "j = np.random.randint(10, size=3)\r\n",
        "j"
      ],
      "execution_count": 40,
      "outputs": [
        {
          "output_type": "execute_result",
          "data": {
            "text/plain": [
              "array([8, 8, 3])"
            ]
          },
          "metadata": {
            "tags": []
          },
          "execution_count": 40
        }
      ]
    },
    {
      "cell_type": "code",
      "metadata": {
        "id": "U1J6HOBQ2NzB"
      },
      "source": [
        ""
      ],
      "execution_count": null,
      "outputs": []
    }
  ]
}