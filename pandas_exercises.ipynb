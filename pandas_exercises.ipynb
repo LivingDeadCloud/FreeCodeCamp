{
  "nbformat": 4,
  "nbformat_minor": 0,
  "metadata": {
    "colab": {
      "name": "pandas_exercises.ipynb",
      "provenance": [],
      "collapsed_sections": [],
      "toc_visible": true,
      "authorship_tag": "ABX9TyPvORm4Egh/KdOn77sCpVs4",
      "include_colab_link": true
    },
    "kernelspec": {
      "name": "python3",
      "display_name": "Python 3"
    }
  },
  "cells": [
    {
      "cell_type": "markdown",
      "metadata": {
        "id": "view-in-github",
        "colab_type": "text"
      },
      "source": [
        "<a href=\"https://colab.research.google.com/github/LivingDeadCloud/FreeCodeCamp/blob/main/pandas_exercises.ipynb\" target=\"_parent\"><img src=\"https://colab.research.google.com/assets/colab-badge.svg\" alt=\"Open In Colab\"/></a>"
      ]
    },
    {
      "cell_type": "code",
      "metadata": {
        "colab": {
          "base_uri": "https://localhost:8080/"
        },
        "id": "7MSHB0OIOz3o",
        "outputId": "5623ce6e-e16b-41ef-8b75-d9f1d01836d8"
      },
      "source": [
        "# Import the numpy package under the name np\r\n",
        "import numpy as np\r\n",
        "\r\n",
        "# Import the pandas package under the name pd\r\n",
        "import pandas as pd\r\n",
        "\r\n",
        "# Print the pandas version and the configuration\r\n",
        "print(pd.__version__)"
      ],
      "execution_count": 1,
      "outputs": [
        {
          "output_type": "stream",
          "text": [
            "1.1.5\n"
          ],
          "name": "stdout"
        }
      ]
    },
    {
      "cell_type": "markdown",
      "metadata": {
        "id": "uNzIFoLoSwh2"
      },
      "source": [
        "Series creation"
      ]
    },
    {
      "cell_type": "code",
      "metadata": {
        "colab": {
          "base_uri": "https://localhost:8080/"
        },
        "id": "BXnIFW4HRWue",
        "outputId": "0916970a-660c-46af-f509-659cc4e8db37"
      },
      "source": [
        "# Create an empty pandas Series\r\n",
        "pd.Series(dtype=np.float)"
      ],
      "execution_count": 4,
      "outputs": [
        {
          "output_type": "execute_result",
          "data": {
            "text/plain": [
              "Series([], dtype: float64)"
            ]
          },
          "metadata": {
            "tags": []
          },
          "execution_count": 4
        }
      ]
    },
    {
      "cell_type": "code",
      "metadata": {
        "colab": {
          "base_uri": "https://localhost:8080/"
        },
        "id": "EfSL-JmQRt0V",
        "outputId": "6a455e97-e477-4856-b8fa-274a10d75932"
      },
      "source": [
        "# Given the X python list convert it to an Y pandas Series\r\n",
        "X = np.arange(10)\r\n",
        "Y = pd.Series(data=X)\r\n",
        "print(Y, type(Y))"
      ],
      "execution_count": 15,
      "outputs": [
        {
          "output_type": "stream",
          "text": [
            "0    0\n",
            "1    1\n",
            "2    2\n",
            "3    3\n",
            "4    4\n",
            "5    5\n",
            "6    6\n",
            "7    7\n",
            "8    8\n",
            "9    9\n",
            "dtype: int64 <class 'pandas.core.series.Series'>\n"
          ],
          "name": "stdout"
        }
      ]
    },
    {
      "cell_type": "code",
      "metadata": {
        "colab": {
          "base_uri": "https://localhost:8080/"
        },
        "id": "8Ib63F6vR6sk",
        "outputId": "e60a8c48-45c6-4b77-dcca-08503d53dd76"
      },
      "source": [
        "# Given the X pandas Series, name it 'My letters'\r\n",
        "print(Y.name)\r\n",
        "Y.name = 'My letters'\r\n",
        "print(Y.name)"
      ],
      "execution_count": 16,
      "outputs": [
        {
          "output_type": "stream",
          "text": [
            "None\n",
            "My letters\n"
          ],
          "name": "stdout"
        }
      ]
    },
    {
      "cell_type": "code",
      "metadata": {
        "colab": {
          "base_uri": "https://localhost:8080/"
        },
        "id": "fU4URTDDSXC1",
        "outputId": "8be732e8-c1b1-4136-defc-fdae9dcfa735"
      },
      "source": [
        "# Given the X pandas Series, show its values\r\n",
        "Y.values"
      ],
      "execution_count": 19,
      "outputs": [
        {
          "output_type": "execute_result",
          "data": {
            "text/plain": [
              "array([0, 1, 2, 3, 4, 5, 6, 7, 8, 9])"
            ]
          },
          "metadata": {
            "tags": []
          },
          "execution_count": 19
        }
      ]
    },
    {
      "cell_type": "markdown",
      "metadata": {
        "id": "bsKER59hSxvq"
      },
      "source": [
        "Series indexation"
      ]
    },
    {
      "cell_type": "code",
      "metadata": {
        "colab": {
          "base_uri": "https://localhost:8080/"
        },
        "id": "LR3mlxFISnM0",
        "outputId": "3db5a987-3b38-4223-844d-77c24ea30655"
      },
      "source": [
        "# Assign index names to the given X pandas Series\r\n",
        "X = pd.Series(['A','B','C'])\r\n",
        "index_names = ['first', 'second', 'third']\r\n",
        "\r\n",
        "X.index = index_names\r\n",
        "X"
      ],
      "execution_count": 25,
      "outputs": [
        {
          "output_type": "execute_result",
          "data": {
            "text/plain": [
              "first     A\n",
              "second    B\n",
              "third     C\n",
              "dtype: object"
            ]
          },
          "metadata": {
            "tags": []
          },
          "execution_count": 25
        }
      ]
    },
    {
      "cell_type": "code",
      "metadata": {
        "colab": {
          "base_uri": "https://localhost:8080/"
        },
        "id": "00OFUwGsS4D7",
        "outputId": "7ba8b31f-1847-4c12-d407-c44a72edc72e"
      },
      "source": [
        "# Given the X pandas Series, show its first element\r\n",
        "X = pd.Series(['A','B','C', 'D', 'E'])\r\n",
        "index_names = ['first', 'second', 'third', 'fourth', 'fifth']\r\n",
        "X.index = index_names\r\n",
        "\r\n",
        "# by position\r\n",
        "print(f'First element by position: {X[0]}')\r\n",
        "\r\n",
        "# by index\r\n",
        "print(f\"First element by index: {X['first']}\")"
      ],
      "execution_count": 38,
      "outputs": [
        {
          "output_type": "stream",
          "text": [
            "First element by position: A\n",
            "First element by index: A\n"
          ],
          "name": "stdout"
        }
      ]
    },
    {
      "cell_type": "code",
      "metadata": {
        "colab": {
          "base_uri": "https://localhost:8080/"
        },
        "id": "skG3edc3Tu6S",
        "outputId": "651ab7f7-730b-45c4-81e6-77bd756e9ead"
      },
      "source": [
        "# Given the X pandas Series, show its last element\r\n",
        "# by position\r\n",
        "print(f'Last element by position: {X[-1]}')\r\n",
        "\r\n",
        "# by index\r\n",
        "print(f\"Last element by index: {X['fifth']}\") # Change accordingly to name"
      ],
      "execution_count": 39,
      "outputs": [
        {
          "output_type": "stream",
          "text": [
            "Last element by position: E\n",
            "Last element by index: E\n"
          ],
          "name": "stdout"
        }
      ]
    },
    {
      "cell_type": "code",
      "metadata": {
        "colab": {
          "base_uri": "https://localhost:8080/"
        },
        "id": "Z6LcgMaQU9hr",
        "outputId": "86b30ffc-f376-4dbd-df7e-dd9bf496791a"
      },
      "source": [
        "# Given the X pandas Series, show all middle elements\r\n",
        "# by position\r\n",
        "print(f'Middle elements by position: \\n{X[1:-1]}')"
      ],
      "execution_count": 44,
      "outputs": [
        {
          "output_type": "stream",
          "text": [
            "Middle elements by position: \n",
            "second    B\n",
            "third     C\n",
            "fourth    D\n",
            "dtype: object\n"
          ],
          "name": "stdout"
        }
      ]
    },
    {
      "cell_type": "code",
      "metadata": {
        "colab": {
          "base_uri": "https://localhost:8080/"
        },
        "id": "BwJLXp4tVwAs",
        "outputId": "95ea2fd8-43b9-4d7e-d5e6-672c6fe7c9e0"
      },
      "source": [
        "# Given the X pandas Series, show the elements in reverse position\r\n",
        "# by position\r\n",
        "print(f'All elements in reverse position: \\n{X[::-1]}')"
      ],
      "execution_count": 46,
      "outputs": [
        {
          "output_type": "stream",
          "text": [
            "Middle elements by position: \n",
            "fifth     E\n",
            "fourth    D\n",
            "third     C\n",
            "second    B\n",
            "first     A\n",
            "dtype: object\n"
          ],
          "name": "stdout"
        }
      ]
    },
    {
      "cell_type": "code",
      "metadata": {
        "colab": {
          "base_uri": "https://localhost:8080/"
        },
        "id": "4FhSLzFiWhzk",
        "outputId": "308b1604-0c2f-4608-8728-2088e21f3389"
      },
      "source": [
        "# Given the X pandas Series, show the first and last elements\r\n",
        "# by position\r\n",
        "print(f'First and last element: \\n{X[[0,-1]]}')"
      ],
      "execution_count": 60,
      "outputs": [
        {
          "output_type": "stream",
          "text": [
            "First and last element: \n",
            "first    A\n",
            "fifth    E\n",
            "dtype: object\n"
          ],
          "name": "stdout"
        }
      ]
    },
    {
      "cell_type": "markdown",
      "metadata": {
        "id": "Qf38ogeB6Xlz"
      },
      "source": [
        "Serie manipulation"
      ]
    },
    {
      "cell_type": "code",
      "metadata": {
        "colab": {
          "base_uri": "https://localhost:8080/"
        },
        "id": "x0LFzPJIXQrr",
        "outputId": "a1a18124-85d0-49cb-fada-c19e9c0429e3"
      },
      "source": [
        "# Convert the given integer pandas Series to float\r\n",
        "x = np.array([1, 2, 3, 4, 5], dtype=np.int)\r\n",
        "X = pd.Series(x)\r\n",
        "print(X, type(X))\r\n",
        "\r\n",
        "Y = X.astype(np.float)\r\n",
        "print(Y, type(Y))"
      ],
      "execution_count": 68,
      "outputs": [
        {
          "output_type": "stream",
          "text": [
            "0    1\n",
            "1    2\n",
            "2    3\n",
            "3    4\n",
            "4    5\n",
            "dtype: int64 <class 'pandas.core.series.Series'>\n",
            "0    1.0\n",
            "1    2.0\n",
            "2    3.0\n",
            "3    4.0\n",
            "4    5.0\n",
            "dtype: float64 <class 'pandas.core.series.Series'>\n"
          ],
          "name": "stdout"
        }
      ]
    },
    {
      "cell_type": "code",
      "metadata": {
        "colab": {
          "base_uri": "https://localhost:8080/"
        },
        "id": "QFBhUzIm6pKB",
        "outputId": "365ad34c-7482-41cb-d0c6-aa164df2dd24"
      },
      "source": [
        "# Reverse the given pandas Series (first element becomes last)\r\n",
        "Y = X[::-1]\r\n",
        "print(Y)"
      ],
      "execution_count": 69,
      "outputs": [
        {
          "output_type": "stream",
          "text": [
            "4    5\n",
            "3    4\n",
            "2    3\n",
            "1    2\n",
            "0    1\n",
            "dtype: int64\n"
          ],
          "name": "stdout"
        }
      ]
    },
    {
      "cell_type": "code",
      "metadata": {
        "colab": {
          "base_uri": "https://localhost:8080/"
        },
        "id": "MndZdHJt7kMB",
        "outputId": "15a02c00-fbc1-4d38-c8b6-0f7216f94288"
      },
      "source": [
        "# Order (sort) the given pandas Series\r\n",
        "X = pd.Series([4,2,5,1,3], index=['forth','second','fifth','first','third'])\r\n",
        "X.sort_values(inplace=True)\r\n",
        "print(X)"
      ],
      "execution_count": 76,
      "outputs": [
        {
          "output_type": "stream",
          "text": [
            "first     1\n",
            "second    2\n",
            "third     3\n",
            "forth     4\n",
            "fifth     5\n",
            "dtype: int64\n"
          ],
          "name": "stdout"
        }
      ]
    },
    {
      "cell_type": "code",
      "metadata": {
        "colab": {
          "base_uri": "https://localhost:8080/"
        },
        "id": "DI4iuGkB8DIW",
        "outputId": "bc5457ae-c75f-4fbb-909e-b222717fe134"
      },
      "source": [
        "# Given the X pandas Series, set the fifth element equal to 10\r\n",
        "X = pd.Series([1,2,3,4,5], index=['A','B','C','D','E'])\r\n",
        "X[4] = 10\r\n",
        "print(X)"
      ],
      "execution_count": 78,
      "outputs": [
        {
          "output_type": "stream",
          "text": [
            "A     1\n",
            "B     2\n",
            "C     3\n",
            "D     4\n",
            "E    10\n",
            "dtype: int64\n"
          ],
          "name": "stdout"
        }
      ]
    },
    {
      "cell_type": "code",
      "metadata": {
        "colab": {
          "base_uri": "https://localhost:8080/"
        },
        "id": "koaOMmSP8txB",
        "outputId": "2e64ec0c-8d07-4488-b4de-692a358cca9f"
      },
      "source": [
        "# Given the X pandas Series, change all the middle elements to 0\r\n",
        "X = pd.Series([1,2,3,4,5], index=['A','B','C','D','E'])\r\n",
        "X[1:-1] = 0\r\n",
        "print(X)"
      ],
      "execution_count": 79,
      "outputs": [
        {
          "output_type": "stream",
          "text": [
            "A    1\n",
            "B    0\n",
            "C    0\n",
            "D    0\n",
            "E    5\n",
            "dtype: int64\n"
          ],
          "name": "stdout"
        }
      ]
    },
    {
      "cell_type": "code",
      "metadata": {
        "colab": {
          "base_uri": "https://localhost:8080/"
        },
        "id": "e62AXCH683NC",
        "outputId": "3c83ee1b-0492-4939-8744-45546b1812ea"
      },
      "source": [
        "# Given the X pandas Series, add 5 to every element\r\n",
        "X = pd.Series([1,2,3,4,5])\r\n",
        "X = X+5\r\n",
        "print(X)"
      ],
      "execution_count": 80,
      "outputs": [
        {
          "output_type": "stream",
          "text": [
            "0     6\n",
            "1     7\n",
            "2     8\n",
            "3     9\n",
            "4    10\n",
            "dtype: int64\n"
          ],
          "name": "stdout"
        }
      ]
    },
    {
      "cell_type": "markdown",
      "metadata": {
        "id": "b1HHRp4t9BUL"
      },
      "source": [
        "Series boolean arrays (also called masks)"
      ]
    },
    {
      "cell_type": "code",
      "metadata": {
        "colab": {
          "base_uri": "https://localhost:8080/"
        },
        "id": "oVKKGSiF8-VB",
        "outputId": "6b92f9d3-8686-46de-c1bd-e1a7f4a059b0"
      },
      "source": [
        "# Given the X pandas Series, make a mask showing negative elements\r\n",
        "X = pd.Series([-1,2,0,-4,5,6,0,0,-9,10])\r\n",
        "mask = [X<0]\r\n",
        "print(mask)"
      ],
      "execution_count": 81,
      "outputs": [
        {
          "output_type": "stream",
          "text": [
            "[0     True\n",
            "1    False\n",
            "2    False\n",
            "3     True\n",
            "4    False\n",
            "5    False\n",
            "6    False\n",
            "7    False\n",
            "8     True\n",
            "9    False\n",
            "dtype: bool]\n"
          ],
          "name": "stdout"
        }
      ]
    },
    {
      "cell_type": "code",
      "metadata": {
        "colab": {
          "base_uri": "https://localhost:8080/"
        },
        "id": "sLI73B3j9MXh",
        "outputId": "376fc629-80ba-4b06-8f8e-55fb9a736840"
      },
      "source": [
        "# Given the X pandas Series, get the negative elements\r\n",
        "X = pd.Series([-1,2,0,-4,5,6,0,0,-9,10])\r\n",
        "X = X[X<0]\r\n",
        "print(X)"
      ],
      "execution_count": 82,
      "outputs": [
        {
          "output_type": "stream",
          "text": [
            "0   -1\n",
            "3   -4\n",
            "8   -9\n",
            "dtype: int64\n"
          ],
          "name": "stdout"
        }
      ]
    },
    {
      "cell_type": "code",
      "metadata": {
        "colab": {
          "base_uri": "https://localhost:8080/"
        },
        "id": "KN6NztJh9W5I",
        "outputId": "dc630b5c-a7bf-4507-c713-1e03f1bd938a"
      },
      "source": [
        "# Given the X pandas Series, get numbers higher than 5\r\n",
        "X = pd.Series([-1,2,0,-4,5,6,0,0,-9,10])\r\n",
        "X = X[X>5]\r\n",
        "print(X)"
      ],
      "execution_count": 83,
      "outputs": [
        {
          "output_type": "stream",
          "text": [
            "5     6\n",
            "9    10\n",
            "dtype: int64\n"
          ],
          "name": "stdout"
        }
      ]
    },
    {
      "cell_type": "code",
      "metadata": {
        "colab": {
          "base_uri": "https://localhost:8080/"
        },
        "id": "1mLR-r5F_fhK",
        "outputId": "b4eb872c-4894-4127-d90a-8163bab7151a"
      },
      "source": [
        "# Given the X pandas Series, get numbers higher than the elements mean\r\n",
        "X = pd.Series([-1,2,0,-4,5,6,0,0,-9,10])\r\n",
        "X = X[X>X.mean()]\r\n",
        "print(X)"
      ],
      "execution_count": 84,
      "outputs": [
        {
          "output_type": "stream",
          "text": [
            "1     2\n",
            "4     5\n",
            "5     6\n",
            "9    10\n",
            "dtype: int64\n"
          ],
          "name": "stdout"
        }
      ]
    },
    {
      "cell_type": "code",
      "metadata": {
        "colab": {
          "base_uri": "https://localhost:8080/"
        },
        "id": "uwMEPhr-_lZh",
        "outputId": "b4181355-249b-4694-f204-5c11146bc963"
      },
      "source": [
        "# Given the X pandas Series, get numbers equal to 2 or 10\r\n",
        "X = pd.Series([-1,2,0,-4,5,6,0,0,-9,10])\r\n",
        "mask = (X==2) | (X==10)\r\n",
        "X = X[mask]\r\n",
        "print(X)"
      ],
      "execution_count": 100,
      "outputs": [
        {
          "output_type": "stream",
          "text": [
            "1     2\n",
            "9    10\n",
            "dtype: int64\n"
          ],
          "name": "stdout"
        }
      ]
    },
    {
      "cell_type": "markdown",
      "metadata": {
        "id": "mRxEE8THAnvb"
      },
      "source": [
        "Logic functions"
      ]
    },
    {
      "cell_type": "code",
      "metadata": {
        "colab": {
          "base_uri": "https://localhost:8080/"
        },
        "id": "pXGHZ__9_xWI",
        "outputId": "72b4ce4a-23fe-46c0-81ec-f24b62807e03"
      },
      "source": [
        "# Given the X pandas Series, return True if none of its elements is zero\r\n",
        "X = pd.Series([-1,2,0,-4,5,6,0,0,-9,10])\r\n",
        "X.all()"
      ],
      "execution_count": 103,
      "outputs": [
        {
          "output_type": "execute_result",
          "data": {
            "text/plain": [
              "False"
            ]
          },
          "metadata": {
            "tags": []
          },
          "execution_count": 103
        }
      ]
    },
    {
      "cell_type": "code",
      "metadata": {
        "colab": {
          "base_uri": "https://localhost:8080/"
        },
        "id": "8iyU8S4YAyen",
        "outputId": "8a29080e-16b6-4c32-d4b2-5cb2631f284c"
      },
      "source": [
        "# Given the X pandas Series, return True if any of its elements is zero\r\n",
        "X = pd.Series([-1,2,0,-4,5,6,0,0,-9,10])\r\n",
        "X.any()"
      ],
      "execution_count": 104,
      "outputs": [
        {
          "output_type": "execute_result",
          "data": {
            "text/plain": [
              "True"
            ]
          },
          "metadata": {
            "tags": []
          },
          "execution_count": 104
        }
      ]
    },
    {
      "cell_type": "markdown",
      "metadata": {
        "id": "Gsy86hJzBRH9"
      },
      "source": [
        "Summary statistics"
      ]
    },
    {
      "cell_type": "code",
      "metadata": {
        "colab": {
          "base_uri": "https://localhost:8080/"
        },
        "id": "o7gxQVwpBPFQ",
        "outputId": "ef6efa8d-6704-4309-ac11-05a2a00adafd"
      },
      "source": [
        "# Given the X pandas Series, show the sum of its elements\r\n",
        "X = pd.Series([-1,2,0,-4,5,6,0,0,-9,10])\r\n",
        "X.sum()"
      ],
      "execution_count": 105,
      "outputs": [
        {
          "output_type": "execute_result",
          "data": {
            "text/plain": [
              "9"
            ]
          },
          "metadata": {
            "tags": []
          },
          "execution_count": 105
        }
      ]
    },
    {
      "cell_type": "code",
      "metadata": {
        "colab": {
          "base_uri": "https://localhost:8080/"
        },
        "id": "gmEy_nZyBVV4",
        "outputId": "21e4c239-ce2f-41c9-da90-9a0a4aba18f6"
      },
      "source": [
        "# Given the X pandas Series, show the mean value of its elements\r\n",
        "X = pd.Series([-1,2,0,-4,5,6,0,0,-9,10])\r\n",
        "X.mean()"
      ],
      "execution_count": 106,
      "outputs": [
        {
          "output_type": "execute_result",
          "data": {
            "text/plain": [
              "0.9"
            ]
          },
          "metadata": {
            "tags": []
          },
          "execution_count": 106
        }
      ]
    },
    {
      "cell_type": "code",
      "metadata": {
        "colab": {
          "base_uri": "https://localhost:8080/"
        },
        "id": "F9l03vQFBZB4",
        "outputId": "95adcc2c-89d2-4494-aea3-0180753d792d"
      },
      "source": [
        "# Given the X pandas Series, show the max value of its elements\r\n",
        "X = pd.Series([-1,2,0,-4,5,6,0,0,-9,10])\r\n",
        "X.max()"
      ],
      "execution_count": 107,
      "outputs": [
        {
          "output_type": "execute_result",
          "data": {
            "text/plain": [
              "10"
            ]
          },
          "metadata": {
            "tags": []
          },
          "execution_count": 107
        }
      ]
    },
    {
      "cell_type": "code",
      "metadata": {
        "id": "XNQf6QpUBd4g"
      },
      "source": [
        ""
      ],
      "execution_count": null,
      "outputs": []
    }
  ]
}